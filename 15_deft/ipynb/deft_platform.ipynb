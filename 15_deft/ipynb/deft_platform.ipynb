{
 "cells": [
  {
   "cell_type": "code",
   "execution_count": null,
   "metadata": {},
   "outputs": [],
   "source": [
    "# Header cell\n",
    "from __future__ import division\n",
    "import scipy as sp\n",
    "import numpy as np\n",
    "import matplotlib.pyplot as plt\n",
    "%matplotlib inline\n",
    "plt.ion()\n",
    "\n",
    "# Specific things needed\n",
    "import time\n",
    "import math\n",
    "import sys\n",
    "\n",
    "# Add parent directory to path\n",
    "sys.path.append('../code/')\n",
    "sys.path.append('../sim/')\n",
    "\n",
    "# Import deft modules\n",
    "import deft_1d\n",
    "import simulate_data_1d\n",
    "import utils"
   ]
  },
  {
   "cell_type": "code",
   "execution_count": null,
   "metadata": {
    "collapsed": true
   },
   "outputs": [],
   "source": [
    "# Simulate data\n",
    "N = 100\n",
    "data_type = 'wide'\n",
    "\n",
    "# simulate data and get default deft settings\n",
    "data, defaults = simulate_data_1d.run(data_type, N)"
   ]
  },
  {
   "cell_type": "code",
   "execution_count": null,
   "metadata": {
    "scrolled": false
   },
   "outputs": [],
   "source": [
    "# Deft parameter settings\n",
    "G = 100\n",
    "alpha = 3\n",
    "bbox = [-10, 10]\n",
    "periodic = False\n",
    "Laplace = False\n",
    "num_samples = 100\n",
    "num_steps_per_sample = G\n",
    "num_thermalization_steps = 10*G\n",
    "fix_t_at_t_star = False\n",
    "print_t = False\n",
    "tollerance = 1E-3\n",
    "resolution = 1E-1\n",
    "\n",
    "# Do density estimation\n",
    "results = deft_1d.run(data, G=G, alpha=alpha, bbox=bbox, periodic=periodic, Laplace=Laplace, num_samples=num_samples, \\\n",
    "                      num_steps_per_sample=num_steps_per_sample, num_thermalization_steps=num_thermalization_steps, \\\n",
    "                      fix_t_at_t_star=fix_t_at_t_star, print_t=print_t, tollerance=tollerance, resolution=resolution)"
   ]
  },
  {
   "cell_type": "code",
   "execution_count": null,
   "metadata": {},
   "outputs": [],
   "source": [
    "results.t_star"
   ]
  },
  {
   "cell_type": "code",
   "execution_count": null,
   "metadata": {
    "scrolled": false
   },
   "outputs": [],
   "source": [
    "# Plot prob(t) vs t\n",
    "if (num_samples > 0):\n",
    "    plt.figure(figsize=[8,6])\n",
    "    x = results.prob_t_vs_t[0,:]\n",
    "    y = results.prob_t_vs_t[1,:]\n",
    "    plt.scatter(x, y)\n",
    "    plt.semilogy(x, y, color='red', linewidth=1)\n",
    "    plt.ylim(0, 1.05*max(y))\n",
    "    plt.xticks(size=15)\n",
    "    plt.yticks(size=15)\n",
    "    plt.xlabel('t (-inf, +inf)', size=20)\n",
    "    plt.ylabel('prob(t)', size=20)"
   ]
  },
  {
   "cell_type": "code",
   "execution_count": null,
   "metadata": {
    "collapsed": true
   },
   "outputs": [],
   "source": [
    "# Compute true density\n",
    "xs = results.bin_centers\n",
    "Q_true = np.zeros(G)\n",
    "for i, x in enumerate(xs):\n",
    "    Q_true[i] = eval(defaults['pdf_py'])\n",
    "Q_true /= results.h*sum(Q_true)"
   ]
  },
  {
   "cell_type": "code",
   "execution_count": null,
   "metadata": {
    "scrolled": false
   },
   "outputs": [],
   "source": [
    "plt.figure(figsize=[16,10])\n",
    "xs = results.bin_centers\n",
    "\n",
    "# plot histogram density\n",
    "left_bin_edges = results.bin_edges[:-1]\n",
    "plt.bar(left_bin_edges, results.R, width=results.h, color='gray', linewidth=0, zorder=0, alpha=0.5)\n",
    "\n",
    "# Plot the MCMC samples from S\n",
    "if (num_samples > 0):\n",
    "    plt.plot(xs, results.Q_samples, color='blue', linewidth=0.5, alpha=0.5)\n",
    "\n",
    "# Plot DEFT density estimate\n",
    "plt.plot(xs, results.Q_star, color='red', linewidth=2, zorder=2, alpha=1)\n",
    "\n",
    "# Plot the true density\n",
    "plt.plot(xs, Q_true, color='black', linewidth=2)\n",
    "\n",
    "# Tidy up the plot\n",
    "plt.ylim(0, 1.05*max(results.R))\n",
    "plt.xlim(-10, 10)\n",
    "plt.yticks(size=20)\n",
    "plt.xticks(size=20)\n",
    "plt.ylabel('Probability density', size=25)\n",
    "plt.xlabel('Data', size=25)\n",
    "t = results.deft_1d_compute_time\n",
    "plt.title('%s, t=%1.2f sec %s'%(data_type, t, '(Black=Q_true, Red=Q_star, Blue=Q_samples)'), \\\n",
    "          fontsize=20)"
   ]
  },
  {
   "cell_type": "code",
   "execution_count": null,
   "metadata": {
    "collapsed": true
   },
   "outputs": [],
   "source": []
  }
 ],
 "metadata": {
  "anaconda-cloud": {},
  "kernelspec": {
   "display_name": "Python 2",
   "language": "python",
   "name": "python2"
  },
  "language_info": {
   "codemirror_mode": {
    "name": "ipython",
    "version": 2
   },
   "file_extension": ".py",
   "mimetype": "text/x-python",
   "name": "python",
   "nbconvert_exporter": "python",
   "pygments_lexer": "ipython2",
   "version": "2.7.13"
  }
 },
 "nbformat": 4,
 "nbformat_minor": 1
}
